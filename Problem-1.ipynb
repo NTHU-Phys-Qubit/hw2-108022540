{
 "cells": [
  {
   "cell_type": "code",
   "execution_count": 2,
   "metadata": {},
   "outputs": [],
   "source": [
    "import numpy as np\n",
    "import matplotlib.pyplot as plt"
   ]
  },
  {
   "cell_type": "markdown",
   "metadata": {},
   "source": [
    "# 1D Ising model + Transfer matrix\n",
    "\n",
    "* Construct the transfer matrix at temperature $T$ with external field $B$\n",
    "* Find the eivenvalues of the transfer matrix and compare to the exact results.\n",
    "* Evaluate the partition function $Z$ at different system size $N$ and $T$, $B$. Compare to the exact results.\n",
    "* For a fixed $N$, $T$, $B$, evaluate $\\langle S_0 S_j\\rangle$ where $j=0,1,\\cdots N$. \n",
    "* Plot $\\langle S_0 S_j\\rangle$ up to $j=N/2$ and show that it decays exponentially.\n",
    "  * Please try several $N$, $T$, $B$. What is the largest $N$ you can go? What is the lowest $T$ you can go?"
   ]
  },
  {
   "cell_type": "code",
   "execution_count": 3,
   "metadata": {},
   "outputs": [],
   "source": [
    "# the transfer matrix at temperature  𝑇  with external field  𝐵\n",
    "J = 1\n",
    "kB = 1\n",
    "def transfer_matrix(T,B):\n",
    "    beta = 1/(kB*T)\n",
    "    return np.array([[np.exp(beta*J+beta*B),np.exp(-beta*J)],\n",
    "                    [np.exp(-beta*J),np.exp(beta*J-beta*B)]])\n"
   ]
  },
  {
   "cell_type": "code",
   "execution_count": 4,
   "metadata": {},
   "outputs": [
    {
     "name": "stdout",
     "output_type": "stream",
     "text": [
      "[0.97888741 7.41016869]\n",
      "[0.97888741 7.41016869]\n"
     ]
    }
   ],
   "source": [
    "#the eivenvalues of the transfer matrix \n",
    "def eigenvalues(T,B):\n",
    "    return np.linalg.eigvalsh(transfer_matrix(T,B)) #算matrix的eignevalue\n",
    "#the exact results\n",
    "def lambda0(T,B):\n",
    "    beta = 1/(kB*T)\n",
    "    lambda1 = np.exp(beta*J)*np.cosh(beta*B) + (np.exp(-2*beta*J)+np.exp(2*beta*J)*np.sinh(beta*B)**2)**0.5\n",
    "    lambda2 = np.exp(beta*J)*np.cosh(beta*B) - (np.exp(-2*beta*J)+np.exp(2*beta*J)*np.sinh(beta*B)**2)**0.5 \n",
    "    return np.array([round(lambda2,8),round(lambda1,8)])\n",
    "T = 1\n",
    "B = 1\n",
    "print(eigenvalues(T,B))\n",
    "print(lambda0(T,B))"
   ]
  },
  {
   "cell_type": "code",
   "execution_count": 5,
   "metadata": {},
   "outputs": [
    {
     "name": "stdout",
     "output_type": "stream",
     "text": [
      "7.225973768125767e+86\n",
      "9.611905178281457e+86\n"
     ]
    }
   ],
   "source": [
    "#partition function 𝑍  \n",
    "N, T, B = 100, 1, 1\n",
    "z = np.array(transfer_matrix(T,B)**N)\n",
    "Z = np.trace(z)\n",
    "print (Z)\n",
    "#the exact results\n",
    "def  lambda1(T,B):\n",
    "    beta = 1/(kB*T)\n",
    "    return np.exp(beta*J)*np.cosh(beta*B) + (np.exp(-2*beta*J)+np.exp(2*beta*J)*np.sinh(beta*B)**2)**0.5\n",
    "def  lambda2(T,B):\n",
    "    beta = 1/(kB*T)\n",
    "    return np.exp(beta*J)*np.cosh(beta*B) - (np.exp(-2*beta*J)+np.exp(2*beta*J)*np.sinh(beta*B)**2)**0.5\n",
    "print (lambda1(T,B)**N + lambda2(T,B)**N)"
   ]
  },
  {
   "cell_type": "code",
   "execution_count": 52,
   "metadata": {},
   "outputs": [
    {
     "name": "stdout",
     "output_type": "stream",
     "text": [
      "1.0\n",
      "0.9888647532278549\n",
      "0.9888647532278549\n"
     ]
    }
   ],
   "source": [
    "# evaluate correlation function⟨𝑆0𝑆𝑗⟩\n",
    "N, T, B = 3, 1, 1\n",
    "Tz = np.array([[1,0],\n",
    "               [0,-1]]) #impurity_matrix = Tz\n",
    "TM = transfer_matrix(T,B)\n",
    "s0sj = np.zeros(N+1) #製造一個list存放J = 1 to N 時算出的每個correlation function\n",
    "for j in range(N):\n",
    "    z = np.eye(2)\n",
    "    Z_s0sj = Tz\n",
    "    for k in range (N):\n",
    "        z = z @ TM\n",
    "        if k == j :\n",
    "            Z_s0sj = Z_s0sj @ Tz @ TM\n",
    "        else:\n",
    "            Z_s0sj = Z_s0sj @ TM\n",
    "    s0sj[j] = np.trace(Z_s0sj)/np.trace(z)\n",
    "    s0sj[N] = s0sj[0] #因為PBC\n",
    "    print(s0sj[j])\n"
   ]
  },
  {
   "cell_type": "code",
   "execution_count": 60,
   "metadata": {},
   "outputs": [
    {
     "data": {
      "text/plain": [
       "[<matplotlib.lines.Line2D at 0x2c93a8f4e88>]"
      ]
     },
     "execution_count": 60,
     "metadata": {},
     "output_type": "execute_result"
    },
    {
     "data": {
      "image/png": "[encoded data removed]",
      "text/plain": [
       "<Figure size 432x288 with 1 Axes>"
      ]
     },
     "metadata": {
      "needs_background": "light"
     },
     "output_type": "display_data"
    }
   ],
   "source": [
    "# Plot  ⟨𝑆0𝑆𝑗⟩  up to  𝑗=𝑁/2  \n",
    "N, T, B = 32, 1, 0\n",
    "Tz = np.array([[1,0],\n",
    "               [0,-1]]) #impurity_matrix = Tz\n",
    "TM = transfer_matrix(T,B)\n",
    "s0sj = np.zeros(N+1) #製造一個list存放J = 1 to N 時算出的每個correlation function\n",
    "for j in range(N):\n",
    "    z = np.eye(2)\n",
    "    Z_s0sj = Tz\n",
    "    for k in range (N):\n",
    "        z = z @ TM\n",
    "        if k == j :\n",
    "            Z_s0sj = Z_s0sj @ Tz @ TM\n",
    "        else:\n",
    "            Z_s0sj = Z_s0sj @ TM\n",
    "    s0sj[j] = np.trace(Z_s0sj)/np.trace(z)\n",
    "    s0sj[N] = s0sj[0] #因為PBC\n",
    "plt.plot(s0sj[0:int(N/2)],\"*\")\n",
    "plt.xlabel(\"sites\")\n",
    "plt.ylabel(\"the value of correlation function\")"
   ]
  },
  {
   "cell_type": "code",
   "execution_count": 91,
   "metadata": {},
   "outputs": [
    {
     "name": "stderr",
     "output_type": "stream",
     "text": [
      "D:\\anaconda\\lib\\site-packages\\ipykernel_launcher.py:33: RuntimeWarning: overflow encountered in matmul\n",
      "D:\\anaconda\\lib\\site-packages\\ipykernel_launcher.py:37: RuntimeWarning: overflow encountered in matmul\n",
      "D:\\anaconda\\lib\\site-packages\\numpy\\core\\fromnumeric.py:1686: RuntimeWarning: overflow encountered in reduce\n",
      "  return asanyarray(a).trace(offset=offset, axis1=axis1, axis2=axis2, dtype=dtype, out=out)\n",
      "D:\\anaconda\\lib\\site-packages\\ipykernel_launcher.py:38: RuntimeWarning: invalid value encountered in double_scalars\n"
     ]
    },
    {
     "name": "stdout",
     "output_type": "stream",
     "text": [
      "the largest  𝑁 is 629\n"
     ]
    },
    {
     "name": "stderr",
     "output_type": "stream",
     "text": [
      "D:\\anaconda\\lib\\site-packages\\ipykernel_launcher.py:35: RuntimeWarning: overflow encountered in matmul\n"
     ]
    },
    {
     "data": {
      "image/png": "[encoded data removed]",
      "text/plain": [
       "<Figure size 720x576 with 1 Axes>"
      ]
     },
     "metadata": {
      "needs_background": "light"
     },
     "output_type": "display_data"
    },
    {
     "data": {
      "image/png": "[encoded data removed]",
      "text/plain": [
       "<Figure size 720x576 with 1 Axes>"
      ]
     },
     "metadata": {
      "needs_background": "light"
     },
     "output_type": "display_data"
    }
   ],
   "source": [
    "#Please try several  𝑁 ,  𝑇 ,  𝐵 . (1)What is the largest  𝑁  you can go? (2)What is the lowest  𝑇  you can go?\n",
    "# (1)\n",
    "N, T, B = 629, 1, 0\n",
    "Tz = np.array([[1,0],\n",
    "               [0,-1]]) #impurity_matrix = Tz\n",
    "TM = transfer_matrix(T,B)\n",
    "s0sj = np.zeros(N+1) #製造一個list存放J = 1 to N 時算出的每個correlation function\n",
    "for j in range(N):\n",
    "    z = np.eye(2)\n",
    "    Z_s0sj = Tz\n",
    "    for k in range (N):\n",
    "        z = z @ TM\n",
    "        if k == j :\n",
    "            Z_s0sj = Z_s0sj @ Tz @ TM\n",
    "        else:\n",
    "            Z_s0sj = Z_s0sj @ TM\n",
    "    s0sj[j] = np.trace(Z_s0sj)/np.trace(z)\n",
    "    s0sj[N] = s0sj[0] #因為PBC\n",
    "plt.figure(figsize = (10,8))\n",
    "plt.plot(s0sj[0:int(N/2)],\"*\")\n",
    "plt.xlabel(\"sites\")\n",
    "plt.ylabel(\"the value of correlation function\")\n",
    "\n",
    "N, T, B = 630, 1, 0\n",
    "Tz = np.array([[1,0],\n",
    "               [0,-1]]) #impurity_matrix = Tz\n",
    "TM = transfer_matrix(T,B)\n",
    "s0sj = np.zeros(N+1) #製造一個list存放J = 1 to N 時算出的每個correlation function\n",
    "for j in range(N):\n",
    "    z = np.eye(2)\n",
    "    Z_s0sj = Tz\n",
    "    for k in range (N):\n",
    "        z = z @ TM\n",
    "        if k == j :\n",
    "            Z_s0sj = Z_s0sj @ Tz @ TM\n",
    "        else:\n",
    "            Z_s0sj = Z_s0sj @ TM\n",
    "    s0sj[j] = np.trace(Z_s0sj)/np.trace(z)\n",
    "    s0sj[N] = s0sj[0] #因為PBC\n",
    "plt.figure(figsize = (10,8))\n",
    "plt.plot(s0sj[0:int(N/2)],\"*\")\n",
    "plt.xlabel(\"sites\")\n",
    "plt.ylabel(\"the value of correlation function\")\n",
    "print(\"the largest  𝑁 is 629\")"
   ]
  },
  {
   "cell_type": "code",
   "execution_count": 90,
   "metadata": {},
   "outputs": [
    {
     "name": "stdout",
     "output_type": "stream",
     "text": [
      "the lowest  𝑇  is 0.2\n"
     ]
    },
    {
     "data": {
      "image/png": "[encoded data removed]",
      "text/plain": [
       "<Figure size 720x576 with 1 Axes>"
      ]
     },
     "metadata": {
      "needs_background": "light"
     },
     "output_type": "display_data"
    },
    {
     "data": {
      "image/png": "[encoded data removed]",
      "text/plain": [
       "<Figure size 720x576 with 1 Axes>"
      ]
     },
     "metadata": {
      "needs_background": "light"
     },
     "output_type": "display_data"
    }
   ],
   "source": [
    "N, T, B = 32, 0.2, 0\n",
    "Tz = np.array([[1,0],\n",
    "               [0,-1]]) #impurity_matrix = Tz\n",
    "TM = transfer_matrix(T,B)\n",
    "s0sj = np.zeros(N+1) #製造一個list存放J = 1 to N 時算出的每個correlation function\n",
    "for j in range(N):\n",
    "    z = np.eye(2)\n",
    "    Z_s0sj = Tz\n",
    "    for k in range (N):\n",
    "        z = z @ TM\n",
    "        if k == j :\n",
    "            Z_s0sj = Z_s0sj @ Tz @ TM\n",
    "        else:\n",
    "            Z_s0sj = Z_s0sj @ TM\n",
    "    s0sj[j] = np.trace(Z_s0sj)/np.trace(z)\n",
    "    s0sj[N] = s0sj[0] #因為PBC\n",
    "plt.figure(figsize = (10,8))\n",
    "plt.plot(s0sj[0:int(N/2)],\"*\")\n",
    "plt.xlabel(\"sites\")\n",
    "plt.ylabel(\"the value of correlation function\")\n",
    "\n",
    "N, T, B = 32, 0.1, 0\n",
    "Tz = np.array([[1,0],\n",
    "               [0,-1]]) #impurity_matrix = Tz\n",
    "TM = transfer_matrix(T,B)\n",
    "s0sj = np.zeros(N+1) #製造一個list存放J = 1 to N 時算出的每個correlation function\n",
    "for j in range(N):\n",
    "    z = np.eye(2)\n",
    "    Z_s0sj = Tz\n",
    "    for k in range (N):\n",
    "        z = z @ TM\n",
    "        if k == j :\n",
    "            Z_s0sj = Z_s0sj @ Tz @ TM\n",
    "        else:\n",
    "            Z_s0sj = Z_s0sj @ TM\n",
    "    s0sj[j] = np.trace(Z_s0sj)/np.trace(z)\n",
    "    s0sj[N] = s0sj[0] #因為PBC\n",
    "plt.figure(figsize = (10,8))\n",
    "plt.plot(s0sj[0:int(N/2)],\"*\")\n",
    "plt.xlabel(\"sites\")\n",
    "plt.ylabel(\"the value of correlation function\")\n",
    "print(\"the lowest  𝑇  is 0.2\")"
   ]
  },
  {
   "cell_type": "code",
   "execution_count": null,
   "metadata": {},
   "outputs": [],
   "source": []
  },
  {
   "cell_type": "code",
   "execution_count": null,
   "metadata": {},
   "outputs": [],
   "source": []
  }
 ],
 "metadata": {
  "kernelspec": {
   "display_name": "Python 3",
   "language": "python",
   "name": "python3"
  },
  "language_info": {
   "codemirror_mode": {
    "name": "ipython",
    "version": 3
   },
   "file_extension": ".py",
   "mimetype": "text/x-python",
   "name": "python",
   "nbconvert_exporter": "python",
   "pygments_lexer": "ipython3",
   "version": "3.7.6"
  }
 },
 "nbformat": 4,
 "nbformat_minor": 4
}
