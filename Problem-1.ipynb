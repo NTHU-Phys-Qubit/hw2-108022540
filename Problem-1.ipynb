{
 "cells": [
  {
   "cell_type": "code",
   "execution_count": 2,
   "metadata": {},
   "outputs": [],
   "source": [
    "import numpy as np\n",
    "import matplotlib.pyplot as plt"
   ]
  },
  {
   "cell_type": "markdown",
   "metadata": {},
   "source": [
    "# 1D Ising model + Transfer matrix\n",
    "\n",
    "* Construct the transfer matrix at temperature $T$ with external field $B$\n",
    "* Find the eivenvalues of the transfer matrix and compare to the exact results.\n",
    "* Evaluate the partition function $Z$ at different system size $N$ and $T$, $B$. Compare to the exact results.\n",
    "* For a fixed $N$, $T$, $B$, evaluate $\\langle S_0 S_j\\rangle$ where $j=0,1,\\cdots N$. \n",
    "* Plot $\\langle S_0 S_j\\rangle$ up to $j=N/2$ and show that it decays exponentially.\n",
    "  * Please try several $N$, $T$, $B$. What is the largest $N$ you can go? What is the lowest $T$ you can go?"
   ]
  },
  {
   "cell_type": "code",
   "execution_count": 3,
   "metadata": {},
   "outputs": [],
   "source": [
    "# the transfer matrix at temperature  𝑇  with external field  𝐵\n",
    "J = 1\n",
    "kB = 1\n",
    "def transfer_matrix(T,B):\n",
    "    beta = 1/(kB*T)\n",
    "    return np.array([[np.exp(beta*J+beta*B),np.exp(-beta*J)],\n",
    "                    [np.exp(-beta*J),np.exp(beta*J-beta*B)]])\n"
   ]
  },
  {
   "cell_type": "code",
   "execution_count": 4,
   "metadata": {},
   "outputs": [
    {
     "name": "stdout",
     "output_type": "stream",
     "text": [
      "[0.97888741 7.41016869]\n",
      "[0.97888741 7.41016869]\n"
     ]
    }
   ],
   "source": [
    "#the eivenvalues of the transfer matrix \n",
    "def eigenvalues(T,B):\n",
    "    return np.linalg.eigvalsh(transfer_matrix(T,B)) #算matrix的eignevalue\n",
    "#the exact results\n",
    "def lambda0(T,B):\n",
    "    beta = 1/(kB*T)\n",
    "    lambda1 = np.exp(beta*J)*np.cosh(beta*B) + (np.exp(-2*beta*J)+np.exp(2*beta*J)*np.sinh(beta*B)**2)**0.5\n",
    "    lambda2 = np.exp(beta*J)*np.cosh(beta*B) - (np.exp(-2*beta*J)+np.exp(2*beta*J)*np.sinh(beta*B)**2)**0.5 \n",
    "    return np.array([round(lambda2,8),round(lambda1,8)])\n",
    "T = 1\n",
    "B = 1\n",
    "print(eigenvalues(T,B))\n",
    "print(lambda0(T,B))"
   ]
  },
  {
   "cell_type": "code",
   "execution_count": 5,
   "metadata": {},
   "outputs": [
    {
     "name": "stdout",
     "output_type": "stream",
     "text": [
      "7.225973768125767e+86\n",
      "9.611905178281457e+86\n"
     ]
    }
   ],
   "source": [
    "#partition function 𝑍  \n",
    "N, T, B = 100, 1, 1\n",
    "z = np.array(transfer_matrix(T,B)**N)\n",
    "Z = np.trace(z)\n",
    "print (Z)\n",
    "#the exact results\n",
    "def  lambda1(T,B):\n",
    "    beta = 1/(kB*T)\n",
    "    return np.exp(beta*J)*np.cosh(beta*B) + (np.exp(-2*beta*J)+np.exp(2*beta*J)*np.sinh(beta*B)**2)**0.5\n",
    "def  lambda2(T,B):\n",
    "    beta = 1/(kB*T)\n",
    "    return np.exp(beta*J)*np.cosh(beta*B) - (np.exp(-2*beta*J)+np.exp(2*beta*J)*np.sinh(beta*B)**2)**0.5\n",
    "print (lambda1(T,B)**N + lambda2(T,B)**N)"
   ]
  },
  {
   "cell_type": "code",
   "execution_count": 9,
   "metadata": {},
   "outputs": [
    {
     "ename": "ValueError",
     "evalue": "matmul: Input operand 1 does not have enough dimensions (has 0, gufunc core with signature (n?,k),(k,m?)->(n?,m?) requires 1)",
     "output_type": "error",
     "traceback": [
      "\u001b[1;31m---------------------------------------------------------------------------\u001b[0m",
      "\u001b[1;31mValueError\u001b[0m                                Traceback (most recent call last)",
      "\u001b[1;32m<ipython-input-9-6a4770a22c9a>\u001b[0m in \u001b[0;36m<module>\u001b[1;34m\u001b[0m\n\u001b[0;32m     11\u001b[0m         \u001b[0mZ\u001b[0m \u001b[1;33m=\u001b[0m \u001b[0mZ\u001b[0m \u001b[1;33m@\u001b[0m \u001b[0mTM\u001b[0m\u001b[1;33m\u001b[0m\u001b[1;33m\u001b[0m\u001b[0m\n\u001b[0;32m     12\u001b[0m         \u001b[1;32mif\u001b[0m \u001b[0mi\u001b[0m \u001b[1;33m==\u001b[0m \u001b[0mj\u001b[0m \u001b[1;33m:\u001b[0m\u001b[1;33m\u001b[0m\u001b[1;33m\u001b[0m\u001b[0m\n\u001b[1;32m---> 13\u001b[1;33m             \u001b[0mZ_s0sj\u001b[0m \u001b[1;33m=\u001b[0m \u001b[0mZ_s0sj\u001b[0m \u001b[1;33m@\u001b[0m \u001b[0mTz\u001b[0m \u001b[1;33m@\u001b[0m \u001b[0mT\u001b[0m\u001b[1;33m\u001b[0m\u001b[1;33m\u001b[0m\u001b[0m\n\u001b[0m\u001b[0;32m     14\u001b[0m         \u001b[1;32melse\u001b[0m\u001b[1;33m:\u001b[0m\u001b[1;33m\u001b[0m\u001b[1;33m\u001b[0m\u001b[0m\n\u001b[0;32m     15\u001b[0m             \u001b[0mZ_s0sj\u001b[0m \u001b[1;33m=\u001b[0m \u001b[0mZ_s0sj\u001b[0m \u001b[1;33m@\u001b[0m \u001b[0mT\u001b[0m\u001b[1;33m\u001b[0m\u001b[1;33m\u001b[0m\u001b[0m\n",
      "\u001b[1;31mValueError\u001b[0m: matmul: Input operand 1 does not have enough dimensions (has 0, gufunc core with signature (n?,k),(k,m?)->(n?,m?) requires 1)"
     ]
    }
   ],
   "source": [
    "# evaluate correlation function⟨𝑆0𝑆𝑗⟩\n",
    "N, T, B = 2, 1, 1\n",
    "Tz = np.array([[1,0],\n",
    "               [0,-1]]) #impurity_matrix = Tz\n",
    "TM = transfer_matrix(T,B)\n",
    "i = 0\n",
    "for k in range (0,N):\n",
    "    Z = np.eye(2)\n",
    "    Z_s0sj = Tz\n",
    "    for j in np.arange (0,N):\n",
    "        Z = Z @ TM\n",
    "        if i == j :\n",
    "            Z_s0sj = Z_s0sj @ Tz @ T\n",
    "        else:\n",
    "            Z_s0sj = Z_s0sj @ T\n",
    "    s0sj[j] = np.trace(Z_s0sj)/np.trace(Z)\n",
    "s0sj[N] = s0sj[0]  #PBC\n",
    "print(s0sj[j])\n"
   ]
  },
  {
   "cell_type": "code",
   "execution_count": null,
   "metadata": {},
   "outputs": [],
   "source": []
  },
  {
   "cell_type": "code",
   "execution_count": null,
   "metadata": {},
   "outputs": [],
   "source": []
  },
  {
   "cell_type": "code",
   "execution_count": null,
   "metadata": {},
   "outputs": [],
   "source": []
  },
  {
   "cell_type": "code",
   "execution_count": null,
   "metadata": {},
   "outputs": [],
   "source": []
  },
  {
   "cell_type": "code",
   "execution_count": null,
   "metadata": {},
   "outputs": [],
   "source": []
  },
  {
   "cell_type": "code",
   "execution_count": null,
   "metadata": {},
   "outputs": [],
   "source": []
  },
  {
   "cell_type": "code",
   "execution_count": null,
   "metadata": {},
   "outputs": [],
   "source": []
  },
  {
   "cell_type": "code",
   "execution_count": null,
   "metadata": {},
   "outputs": [],
   "source": []
  },
  {
   "cell_type": "code",
   "execution_count": null,
   "metadata": {},
   "outputs": [],
   "source": []
  },
  {
   "cell_type": "code",
   "execution_count": null,
   "metadata": {},
   "outputs": [],
   "source": []
  },
  {
   "cell_type": "code",
   "execution_count": null,
   "metadata": {},
   "outputs": [],
   "source": []
  },
  {
   "cell_type": "code",
   "execution_count": null,
   "metadata": {},
   "outputs": [],
   "source": []
  },
  {
   "cell_type": "code",
   "execution_count": null,
   "metadata": {},
   "outputs": [],
   "source": []
  },
  {
   "cell_type": "code",
   "execution_count": null,
   "metadata": {},
   "outputs": [],
   "source": []
  },
  {
   "cell_type": "code",
   "execution_count": null,
   "metadata": {},
   "outputs": [],
   "source": []
  },
  {
   "cell_type": "code",
   "execution_count": null,
   "metadata": {},
   "outputs": [],
   "source": []
  },
  {
   "cell_type": "code",
   "execution_count": null,
   "metadata": {},
   "outputs": [],
   "source": []
  },
  {
   "cell_type": "code",
   "execution_count": null,
   "metadata": {},
   "outputs": [],
   "source": []
  },
  {
   "cell_type": "code",
   "execution_count": null,
   "metadata": {},
   "outputs": [],
   "source": []
  },
  {
   "cell_type": "code",
   "execution_count": null,
   "metadata": {},
   "outputs": [],
   "source": []
  },
  {
   "cell_type": "code",
   "execution_count": null,
   "metadata": {},
   "outputs": [],
   "source": []
  }
 ],
 "metadata": {
  "kernelspec": {
   "display_name": "Python 3",
   "language": "python",
   "name": "python3"
  },
  "language_info": {
   "codemirror_mode": {
    "name": "ipython",
    "version": 3
   },
   "file_extension": ".py",
   "mimetype": "text/x-python",
   "name": "python",
   "nbconvert_exporter": "python",
   "pygments_lexer": "ipython3",
   "version": "3.7.6"
  }
 },
 "nbformat": 4,
 "nbformat_minor": 4
}
